{
 "cells": [
  {
   "cell_type": "markdown",
   "metadata": {},
   "source": [
    "[![Open In Colab](https://colab.research.google.com/assets/colab-badge.svg)](https://colab.research.google.com/github/saschaschworm/big-data-and-data-science/blob/master/notebooks/prediction-challenge/minimum-working-example.ipynb)"
   ]
  },
  {
   "cell_type": "markdown",
   "metadata": {},
   "source": [
    "# Minimum Working Example\n",
    "\n",
    "Your job is to predict whether or not a person will become a customer of a bank. The data itself contains basic demographic information about numerous  customers as well as data related to phone-based marketing calls during specific campaigns."
   ]
  },
  {
   "cell_type": "markdown",
   "metadata": {},
   "source": [
    "## Data Dictionary\n",
    "\n",
    "<table style=\"width: 100%;\">\n",
    "    <thead>\n",
    "        <tr>\n",
    "            <th style=\"width: 30%; text-align: left;\">Feature</th>\n",
    "            <th style=\"width: 70%; text-align: left;\">Description</th>\n",
    "        </tr>\n",
    "    </thead>\n",
    "    <tbody>\n",
    "        <tr>\n",
    "            <td>date</td>\n",
    "            <td>The last contact date</td>\n",
    "        </tr>\n",
    "        <tr>\n",
    "            <td>age</td>\n",
    "            <td>The age of the customer</td>\n",
    "        </tr>\n",
    "        <tr>\n",
    "            <td>marital_status</td>\n",
    "            <td>The marital status of the customer</td>\n",
    "        </tr>\n",
    "        <tr>\n",
    "            <td>education</td>\n",
    "            <td>The educationan of the customer</td>\n",
    "        </tr>\n",
    "        <tr>\n",
    "            <td>job</td>\n",
    "            <td>The type of job of the customer</td>\n",
    "        </tr>\n",
    "        <tr>\n",
    "            <td>credit_default</td>\n",
    "            <td>Whether or not the customer has a credit in default</td>\n",
    "        </tr>\n",
    "        <tr>\n",
    "            <td>housing_loan</td>\n",
    "            <td>Whether or not the customer has a housing loan</td>\n",
    "        </tr>\n",
    "        <tr>\n",
    "            <td>personal_loan</td>\n",
    "            <td>Whether or not the customer has a personal loan</td>\n",
    "        </tr>\n",
    "        <tr>\n",
    "            <td>communication_type</td>\n",
    "            <td>The type of contact communication</td>\n",
    "        </tr>\n",
    "        <tr>\n",
    "            <td>n_contacts_campaign</td>\n",
    "            <td>The number of contacts performed during this marketing campaign and for this customer</td>\n",
    "        </tr>\n",
    "        <tr>\n",
    "            <td>days_since_last_contact</td>\n",
    "            <td>The number of days passed by after the customer was last contacted from a previous domain</td>\n",
    "        </tr>\n",
    "        <tr>\n",
    "            <td>n_contacts_before</td>\n",
    "            <td>The number of contacts performed before this marketing campaign and for this customer</td>\n",
    "        </tr>\n",
    "        <tr>\n",
    "            <td>previous_conversion</td>\n",
    "            <td>Whether or not the customer has been a customer before</td>\n",
    "        </tr>\n",
    "        <tr>\n",
    "            <td>success</td>\n",
    "            <td>Whether or not the customer became an actual customer (target variable)</td>\n",
    "        </tr>\n",
    "    </tbody>   \n",
    "</table>   "
   ]
  },
  {
   "cell_type": "markdown",
   "metadata": {},
   "source": [
    "## Package Import"
   ]
  },
  {
   "cell_type": "code",
   "execution_count": 1,
   "metadata": {},
   "outputs": [],
   "source": [
    "!pip uninstall scikit-learn -y\n",
    "!pip install scikit-learn==0.23.2\n",
    "import numpy as np\n",
    "import pandas as pd\n",
    "from scipy.stats import uniform\n",
    "from sklearn.compose import ColumnTransformer\n",
    "from sklearn.linear_model import SGDClassifier\n",
    "from sklearn.metrics import f1_score, make_scorer\n",
    "from sklearn.model_selection import RandomizedSearchCV\n",
    "from sklearn.pipeline import Pipeline\n",
    "from sklearn.preprocessing import MinMaxScaler"
   ]
  },
  {
   "cell_type": "markdown",
   "metadata": {},
   "source": [
    "## Data Import"
   ]
  },
  {
   "cell_type": "code",
   "execution_count": 2,
   "metadata": {},
   "outputs": [],
   "source": [
    "dataset = pd.read_csv(\n",
    "    'https://raw.githubusercontent.com/saschaschworm/big-data-and-data-science/' +\n",
    "    'master/datasets/prediction-challenge/dataset.csv', \n",
    "    index_col='identifier', parse_dates=['date'])\n",
    "\n",
    "prediction_dataset = pd.read_csv(\n",
    "    'https://raw.githubusercontent.com/saschaschworm/big-data-and-data-science/' +\n",
    "    'master/datasets/prediction-challenge/prediction-dataset.csv', \n",
    "    index_col='identifier', parse_dates=['date'])"
   ]
  },
  {
   "cell_type": "markdown",
   "metadata": {},
   "source": [
    "## Feature Engineering"
   ]
  },
  {
   "cell_type": "code",
   "execution_count": 3,
   "metadata": {},
   "outputs": [],
   "source": [
    "# Create some new features based on the given features\n",
    "# or enrich the dataset with features from datasets."
   ]
  },
  {
   "cell_type": "markdown",
   "metadata": {},
   "source": [
    "## Model, Pipeline and Scoring Initialization"
   ]
  },
  {
   "cell_type": "code",
   "execution_count": 4,
   "metadata": {},
   "outputs": [],
   "source": [
    "X, y = dataset[['age']], dataset['success']"
   ]
  },
  {
   "cell_type": "code",
   "execution_count": 5,
   "metadata": {},
   "outputs": [],
   "source": [
    "hyperparams = {\n",
    "    'loss': 'log', 'penalty': 'l2', 'alpha': 0.0001, 'max_iter': 1000, 'tol': 1e-3, \n",
    "    'n_jobs': -1, 'random_state': 1909, 'learning_rate': 'invscaling', 'eta0': 0.01}\n",
    "classifier = SGDClassifier(**hyperparams)"
   ]
  },
  {
   "cell_type": "code",
   "execution_count": 6,
   "metadata": {},
   "outputs": [],
   "source": [
    "scorer = make_scorer(f1_score, pos_label='Yes')"
   ]
  },
  {
   "cell_type": "code",
   "execution_count": 7,
   "metadata": {},
   "outputs": [],
   "source": [
    "numeric_features = ['age']\n",
    "numeric_transformer = Pipeline([\n",
    "    ('scaler', MinMaxScaler()),\n",
    "])\n",
    "\n",
    "preprocessor = ColumnTransformer([\n",
    "    ('numeric_transformer', numeric_transformer, numeric_features),\n",
    "])\n",
    "\n",
    "pipeline = Pipeline([\n",
    "    ('preprocessor', preprocessor), \n",
    "    ('classifier', classifier)\n",
    "])"
   ]
  },
  {
   "cell_type": "code",
   "execution_count": 8,
   "metadata": {},
   "outputs": [],
   "source": [
    "param_distributions = {'classifier__eta0': uniform(0, 0.0001)}"
   ]
  },
  {
   "cell_type": "code",
   "execution_count": 9,
   "metadata": {},
   "outputs": [],
   "source": [
    "search = RandomizedSearchCV(\n",
    "    pipeline, param_distributions=param_distributions, n_iter=10, scoring=scorer, \n",
    "    n_jobs=-1, iid=False, cv=10, random_state=1909, return_train_score=True)"
   ]
  },
  {
   "cell_type": "code",
   "execution_count": 10,
   "metadata": {},
   "outputs": [],
   "source": [
    "search = search.fit(X, y)"
   ]
  },
  {
   "cell_type": "markdown",
   "metadata": {},
   "source": [
    "## Evaluation"
   ]
  },
  {
   "cell_type": "code",
   "execution_count": 11,
   "metadata": {},
   "outputs": [],
   "source": [
    "training_score = search.cv_results_['mean_train_score'][search.best_index_] * 100\n",
    "test_score = search.cv_results_['mean_test_score'][search.best_index_] * 100"
   ]
  },
  {
   "cell_type": "code",
   "execution_count": 12,
   "metadata": {},
   "outputs": [
    {
     "data": {
      "text/plain": [
       "'Mean F1 Score (Training/Test): 0.00%/0.00%'"
      ]
     },
     "execution_count": 12,
     "metadata": {},
     "output_type": "execute_result"
    }
   ],
   "source": [
    "f'Mean F1 Score (Training/Test): {training_score:.2f}%/{test_score:.2f}%'"
   ]
  },
  {
   "cell_type": "markdown",
   "metadata": {},
   "source": [
    "## Prediction"
   ]
  },
  {
   "cell_type": "code",
   "execution_count": 13,
   "metadata": {},
   "outputs": [],
   "source": [
    "predictions = search.best_estimator_.predict(prediction_dataset)"
   ]
  },
  {
   "cell_type": "markdown",
   "metadata": {},
   "source": [
    "## Submission Dataset Preparation\n",
    "\n",
    "Your upload to the Online-Campus should contain your written report (the actual seminar paper), this notebook as file as well as the generated submission dataset with your predictions."
   ]
  },
  {
   "cell_type": "code",
   "execution_count": 14,
   "metadata": {},
   "outputs": [],
   "source": [
    "submission = pd.DataFrame(\n",
    "    predictions, index=prediction_dataset.index, columns=['prediction'])"
   ]
  },
  {
   "cell_type": "code",
   "execution_count": 15,
   "metadata": {},
   "outputs": [],
   "source": [
    "matriculation_number = '12345678'"
   ]
  },
  {
   "cell_type": "code",
   "execution_count": 16,
   "metadata": {},
   "outputs": [],
   "source": [
    "submission.to_csv(\n",
    "    f'./submission-{matriculation_number}.csv', index_label='identifier')"
   ]
  }
 ],
 "metadata": {
  "kernelspec": {
   "display_name": "Python 3.7.4",
   "language": "python",
   "name": "python3"
  },
  "language_info": {
   "codemirror_mode": {
    "name": "ipython",
    "version": 3
   },
   "file_extension": ".py",
   "mimetype": "text/x-python",
   "name": "python",
   "nbconvert_exporter": "python",
   "pygments_lexer": "ipython3",
   "version": "3.7.4"
  }
 },
 "nbformat": 4,
 "nbformat_minor": 4
}
