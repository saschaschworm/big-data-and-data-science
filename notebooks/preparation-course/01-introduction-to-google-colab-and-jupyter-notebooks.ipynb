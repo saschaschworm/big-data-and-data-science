{
  "nbformat": 4,
  "nbformat_minor": 0,
  "metadata": {
    "colab": {
      "name": "Introduction to Google Colab and Jupyter Notebooks",
      "provenance": [],
      "collapsed_sections": [],
      "toc_visible": true,
      "authorship_tag": "ABX9TyMouob2IYj7QcPie06/+hk3",
      "include_colab_link": true
    },
    "kernelspec": {
      "name": "python3",
      "display_name": "Python 3"
    },
    "accelerator": "GPU"
  },
  "cells": [
    {
      "cell_type": "markdown",
      "metadata": {
        "id": "view-in-github",
        "colab_type": "text"
      },
      "source": [
        "<a href=\"https://colab.research.google.com/github/saschaschworm/big-data-and-data-science/blob/master/notebooks/preparation-course/01-introduction-to-google-colab-and-jupyter-notebooks.ipynb\" target=\"_parent\"><img src=\"https://colab.research.google.com/assets/colab-badge.svg\" alt=\"Open In Colab\"/></a>"
      ]
    },
    {
      "cell_type": "markdown",
      "metadata": {
        "id": "TLyqEl-Va6ym",
        "colab_type": "text"
      },
      "source": [
        "# Introduction\n",
        "\n",
        "Colaboratory, or Colab for short, is a free cloud-based computation platform, based on [Jupyter Notebooks](https://www.jupyter.org) and hosted by Google, for studying and practicing machine learning and data science. Jupyter Notebooks allow you to write and combine executable [Python](https://www.python.org) code and rich text in a single document (also referred to as notebook), along with HTML, [LaTeX](https://www.latex-project.org), images and more right in your browser with zero configuration required, free access to graphics and [tensor processing units](https://www.geeksforgeeks.org/understanding-tensor-processing-units/) as well as easy sharing with your lecturers, fellow students and co-workers."
      ]
    },
    {
      "cell_type": "markdown",
      "metadata": {
        "id": "Ly82348t4Jpe",
        "colab_type": "text"
      },
      "source": [
        "# Writing and executing code\n",
        "\n",
        "What you can see right below is a code cell that enables you to write and execute code. Here in this case, the first statement in the cell calculates the sum of two numbers and assigns the result of the operation to a variable, which is basically a container for storing and retrieving data. The last statement only contains the name of the variable, causing the cell to output its contents.  \n",
        "\n",
        "Running a cell basically means executing its containing statements one by one and gets accomplished right in place by either clicking on the `▶` icon in the left gutter of the cell or by typing `⌘ Cmd`+`↵ Enter` / `Ctrl`+`↵ Enter`. Typing `⇧ Shift`+`↵ Enter` first runs the cell and then moves the focus to the next cell, adding one if none exists, and `Alt`+`↵ Enter` first runs the cell and then adds and focuses a new cell right below it.\n",
        "\n",
        "<br/>\n",
        "\n",
        "**Exercise 1:** First, click in the cell below and run it right in place. Then, run the cell again but try to move the focus to the next one in order to create it. And finally, run the first cell again but now do not move the focus to the next one but create a new one between the first and the second cell."
      ]
    },
    {
      "cell_type": "code",
      "metadata": {
        "id": "gmlHSdn94Kbu",
        "colab_type": "code",
        "colab": {}
      },
      "source": [
        "a = 1 + 1\n",
        "a"
      ],
      "execution_count": 0,
      "outputs": []
    },
    {
      "cell_type": "markdown",
      "metadata": {
        "id": "cGv023pBpRWN",
        "colab_type": "text"
      },
      "source": [
        "# Basic cell operations"
      ]
    },
    {
      "cell_type": "markdown",
      "metadata": {
        "id": "wudMYp2iQslV",
        "colab_type": "text"
      },
      "source": [
        "## Adding new cells to the notebook\n",
        "\n",
        "A new cell can get created by clicking the `+ CODE` and `+ TEXT` buttons, which pop up when moving the cursor between two cells, or by clicking the `+ CODE` and `+ TEXT` buttons in the toolbar above notebook, adding it right below the focused cell. Typing `⌘ Cmd`+`M` `B` / `Ctrl`+`M` `B` adds a new code cell below the focused cell whereas typing `⌘ Cmd`+`M` `A` / `Ctrl`+`M` `A` adds a new one above it."
      ]
    },
    {
      "cell_type": "markdown",
      "metadata": {
        "id": "dhs5d4K4QvDw",
        "colab_type": "text"
      },
      "source": [
        "## Selecting adjacent and non-adjacent cells\n",
        "\n",
        "Non-adjacent cells can get selected concurrently by clicking one and then holding down `⌘ Cmd` / `Ctrl` while clicking another. Consecutive cells can get selected at once, using lasso selection, by dragging from the outside of a cell and through the group of other cells. Typing `⇧ Shift`+`↓` grows the selection to include the next cell whereas typing `⇧ Shift`+`↑` grows the selection to include the previous one."
      ]
    },
    {
      "cell_type": "markdown",
      "metadata": {
        "id": "DtcDO0DbQwuG",
        "colab_type": "text"
      },
      "source": [
        "## Changeing the position of cells\n",
        "\n",
        "A focused or single selected cell, or a group of adjacently selected cells, can get moved up or down by either clicking the `↑` or `↓` icon in the toolbar right next to the focused cell, or first cell of the selection, or by typing `⌘ Cmd`+`M` `K` / `Ctrl`+`M` `K` and `⌘ Cmd`+`M` `J` / `Ctrl`+`M` `J` respectively."
      ]
    },
    {
      "cell_type": "markdown",
      "metadata": {
        "id": "tMf9FJflQyer",
        "colab_type": "text"
      },
      "source": [
        "## Deleting cells from the notebook\n",
        "\n",
        "Deleting a focused or single selected cell, or a group of cells, can get accomplished by either clicking the trash bin icon in the toolbar right next to the focused cell, or first cell of the selection, or by right-clicking a cell and selecting `Delete cell`, if only one cell is selected/focused, or `Delete cells`, if multiple cells are selected, or by typing `⌘ Cmd`+`M` `D` / `Ctrl`+`M` `D`."
      ]
    },
    {
      "cell_type": "markdown",
      "metadata": {
        "id": "dVeTyztAQzzV",
        "colab_type": "text"
      },
      "source": [
        "## Converting, splitting and merging cells\n",
        "\n",
        "For converting a selected cell from text to code or from code to text, simply type `⌘ Cmd`+`M` `Y` / `Ctrl`+`M` `Y` and `⌘ Cmd`+`M` `M` / `Ctrl`+`M` `M` respectively. You can also split a cell at the cursor position into two distinct cells by typing `⌘ Cmd`+`M` `-` / `Ctrl`+`M` `-`. If you want to merge two more adjacent text or code cells, select the desired cells, right-click one of theme and choose `Merge selected cells`."
      ]
    },
    {
      "cell_type": "markdown",
      "metadata": {
        "id": "cDU-JJEHQ1jz",
        "colab_type": "text"
      },
      "source": [
        "## Undoing and redoing cell operations\n",
        "\n",
        "Any action that involves creating, moving, deleting or converting cells can get undone or redone by typing `⌘ Cmd`+`M` `Z` / `Ctrl`+`M` `Z` and `⌘ Cmd`+`⇧ Shift`+`Y` / `Ctrl`+`⇧ Shift`+`Y` respectively. Actions performed inside a cell, e.g., writing a statement or removing a statement, can get undone or redone by typing `⌘ Cmd`+`Z` / `Ctrl`+`Z` and `⌘ Cmd`+`⇧ Shift`+`Z` / `Ctrl`+`⇧ Shift`+`Z` respectively. \n",
        "\n",
        "<br/>\n",
        "\n",
        "**Exercise 2:** First, add four new code cells and then add one above the second and one below the third one. Next, select the first two cells by using lasso selection and grow the selection to include the next cell. After that, move the three selected cells down for three times and then select the first two cells by using lasso selection and the third cell consecutively while preserving your previous selection. Finally, delete all selected cells and then undo and redo the action. Try to use the keyboard shortcuts as much as possible."
      ]
    },
    {
      "cell_type": "markdown",
      "metadata": {
        "id": "SFO8Wrf_msE9",
        "colab_type": "text"
      },
      "source": [
        "# Writing rich text with images and math\n",
        "\n",
        "This is a text cell that can get edited by double-clicking it. Text cells\n",
        "use the [markdown syntax](/notebooks/markdown_guide.ipynb), which is a markup language for plain-text formatting. The syntax for writing headers is especially useful, because headers do not only structure the notebook into logical and well-defined compartments but are also get displayed in the table of contents on the left-side panel. Adding mathematical equations, using LaTeX rendered by [MathJax](https://www.mathjax.org), is also possible by placing the statement within a pair of `$` characters. For example, the statement `$\\sqrt{3x-1}+(1+x)^2$` becomes $\\sqrt{3x-1}+(1+x)^2$ and `J(\\theta)=\\frac{1}{2}\\sum_{i=1}^m \\left(y_i-h(x_i)\\right)^2.` becomes $$J(\\theta)=\\frac{1}{2}\\sum_{i=1}^m \\left(y_i-h(x_i)\\right)^2.$$ \n",
        "\n"
      ]
    },
    {
      "cell_type": "markdown",
      "metadata": {
        "id": "XytcIV_J9vJ5",
        "colab_type": "text"
      },
      "source": [
        "**Exercise 3:** First, add a new code cell and write `# Header## Subheader` in the first line and `sum([1, 2, 3, 4, 5])` in the second line. After that, convert the cell to a text cell, split it right after the `# Header` string into two distinct cells, convert the second one back to a code cell and then split it right after the `## Subheader` string. Now, convert the first code cell to a text cell, merge it with the first text cell and then make it display [this](https://www.google.de/images/branding/googlelogo/1x/googlelogo_color_272x92dp.png) image underneath the two headers. Finally, run both cells and try to figure out what the `sum` function assumably is doing?"
      ]
    },
    {
      "cell_type": "markdown",
      "metadata": {
        "id": "o1tirJrL3ZcG",
        "colab_type": "text"
      },
      "source": [
        "# Batch-processing of statements\n",
        "\n",
        "When running a code cell, all containing statements get executed (or rather interpreted) sequentially by the Python [interpreter](https://en.wikipedia.org/wiki/Interpreter_(computing)). If the last statement in a code cell is not indented and neither an `import` statement, nor a [void function call](https://overiq.com/python-101/functions-in-python/#void-function-returns-none), nor a variable assignment, Python retrieves the return value of the statement and displays it right underneath the cell. The first three code cells below each contain one of these kind of unindented statements and therefore do not return any output. The last cell, however, contains a non-void function included in the [*NumPy*](https://numpy.org) package that returns five random numbers from a continuous uniform distribution. "
      ]
    },
    {
      "cell_type": "code",
      "metadata": {
        "id": "ZqGO0Fme3Y1y",
        "colab_type": "code",
        "colab": {}
      },
      "source": [
        "# Import Statement\n",
        "import numpy as np"
      ],
      "execution_count": 0,
      "outputs": []
    },
    {
      "cell_type": "code",
      "metadata": {
        "id": "RpXw7uzqqt7L",
        "colab_type": "code",
        "colab": {}
      },
      "source": [
        "# Void Function Call\n",
        "np.random.seed(1909)                  "
      ],
      "execution_count": 0,
      "outputs": []
    },
    {
      "cell_type": "code",
      "metadata": {
        "id": "Lfic9KA-qt9d",
        "colab_type": "code",
        "colab": {}
      },
      "source": [
        "# Variable Assignment\n",
        "b = 2 + 2"
      ],
      "execution_count": 0,
      "outputs": []
    },
    {
      "cell_type": "code",
      "metadata": {
        "id": "DkmtRCpWwOfN",
        "colab_type": "code",
        "colab": {
          "base_uri": "https://localhost:8080/",
          "height": 34
        },
        "outputId": "094be03f-8515-4fe3-c6cb-dcf8eb4b33d1"
      },
      "source": [
        "# Non-Void Function Call\n",
        "np.random.uniform(low=0, high=1, size=5)"
      ],
      "execution_count": 4,
      "outputs": [
        {
          "output_type": "execute_result",
          "data": {
            "text/plain": [
              "array([0.66997379, 0.08615917, 0.54935856, 0.5115458 , 0.28677236])"
            ]
          },
          "metadata": {
            "tags": []
          },
          "execution_count": 4
        }
      ]
    },
    {
      "cell_type": "markdown",
      "metadata": {
        "id": "X2c4shEBrMZb",
        "colab_type": "text"
      },
      "source": [
        "The return values of two or more statements can get displayed underneath a single code cell by using the `print` function that outputs the specified message or any other kind of object to the screen. An object, e.g., a variable, automatically gets converted into a string, based on its internal string representation. The `print` function can live anywehre in a code cell, but it is important that the object to be displayed, has already been initialized in a previous statement of the same or any previous cell. In this case here, the variable `a` has already been initialized and assigned in a statement of a previous code cell and thus can get used in any subsequent statement in any subsequent cell. \n",
        "\n",
        "<br/>\n",
        "\n",
        "**Exercise 4:** Fix the cell below so it displays the contents of the variables `a`, `b` and `c` right next to each other underneath the first code cell. What are the numbers in the left gutter of each cell indicate? Also think of how the ability to run cells in any arbitrary order can cause problems?"
      ]
    },
    {
      "cell_type": "code",
      "metadata": {
        "id": "ddVkmJA7rMgp",
        "colab_type": "code",
        "colab": {}
      },
      "source": [
        "print(a, b)"
      ],
      "execution_count": 0,
      "outputs": []
    },
    {
      "cell_type": "code",
      "metadata": {
        "id": "ZuaHNOTo1MHk",
        "colab_type": "code",
        "colab": {}
      },
      "source": [
        "c = 3 + 3"
      ],
      "execution_count": 0,
      "outputs": []
    },
    {
      "cell_type": "markdown",
      "metadata": {
        "id": "aiM-a01iesad",
        "colab_type": "text"
      },
      "source": [
        "# Tab-completion and introspection\n",
        "\n",
        "Exploring the attributes of Python objects, as well as quickly looking up documentation for classes, methods and functions, is easily accomplishable with tab-completion right in the notebook without switching the browser tab and performing exhausting search throughout various internet sources.\n",
        "\n",
        "<br/>\n",
        "\n",
        "**Exercise 5:** To get started with tab-completion and introspection, first, run the first code cell below to import the *NumPy* package. Then, put your cursor right after the `np.random` string in the second cell below and append the `.` character to see a list of available completions within the `random` module of the *NumPy* package. After that, append `ra` to the string in order to list only those items starting with these characters. Then, navigate through the list and highlight the `random_sample` item, which is a function for returning a random floats, by using the `↑` or `↓` keys on your keyboard and append the highlighted completion to the statement by pressing the `Tab ↹` key. Finally, finish the statement with the `(` character and run the cell to display the return value of the `random_sample` function."
      ]
    },
    {
      "cell_type": "code",
      "metadata": {
        "id": "9WNyWJS-XDPn",
        "colab_type": "code",
        "colab": {}
      },
      "source": [
        "import numpy as np"
      ],
      "execution_count": 0,
      "outputs": []
    },
    {
      "cell_type": "code",
      "metadata": {
        "id": "ppQVxMtifhHq",
        "colab_type": "code",
        "colab": {}
      },
      "source": [
        "np.random"
      ],
      "execution_count": 0,
      "outputs": []
    },
    {
      "cell_type": "markdown",
      "metadata": {
        "id": "tKQXVW1ffkbE",
        "colab_type": "text"
      },
      "source": [
        "After appending the `(` character to the function name, indicating the begin of a function, the `)` character gets auto-completed, indicating the end of the function. Inside the parentheses, the function can get configured, in terms of how the function should behave, by assigning arguments to the parameters of the function. What is also showing up after the appendage of the `(` character, is a little pop-up right next to the function displaying its documentation, stating what this function does, what its parameters are and which are required or optinal, what it returns, and what usage examples it provides.\n",
        "\n",
        "<br/>\n",
        "\n",
        "**Exercise 6:** First, try to understand what the exception below tries to tell you and then check out what the function in the erroneous code cell does and how it is parameterized. After that, fix the function in order to make it return 5 values between 0 and 10 and then run the cell to complete. *Hint: Remove the parentheses and write them again in order to make the pop-up appear.*\n",
        "\n"
      ]
    },
    {
      "cell_type": "code",
      "metadata": {
        "id": "GUw-Q7bkfpvy",
        "colab_type": "code",
        "colab": {}
      },
      "source": [
        "np.random.randint()"
      ],
      "execution_count": 0,
      "outputs": []
    },
    {
      "cell_type": "markdown",
      "metadata": {
        "id": "xTVK3tSLfp0p",
        "colab_type": "text"
      },
      "source": [
        "Documentation can also get displayed in a persistent seperate panel right next to the code editor by first prepending the `?` character at the start of the function name and then running the cell. The location of the panel can get changed by first clicking the top-right icon of the panel and then selecting the desired display format. Using the `?` character does not only display the documentation for classes, methods and functions but also for packages, subpackages and modules. \n",
        "\n",
        "<br/>\n",
        "\n",
        "**Exercise 7:** For each statement in the following two code cells, first, open up the documentation to see either how the function works and what it requires in order to work properly or what functionality the module provides. Then, make the function in the first code cell to return five numbers from the standard normal distribution and after that, check how the subpackage for the core linear algebra tools in the *NumPy* package is named. Finally, remove all tabs of the panel in order to close it."
      ]
    },
    {
      "cell_type": "code",
      "metadata": {
        "id": "RLKWzdzEjcSH",
        "colab_type": "code",
        "colab": {}
      },
      "source": [
        "np.random.normal()"
      ],
      "execution_count": 0,
      "outputs": []
    },
    {
      "cell_type": "code",
      "metadata": {
        "id": "aGUezlRH8sZw",
        "colab_type": "code",
        "colab": {}
      },
      "source": [
        "np"
      ],
      "execution_count": 0,
      "outputs": []
    },
    {
      "cell_type": "markdown",
      "metadata": {
        "id": "rv-ws8gamawH",
        "colab_type": "text"
      },
      "source": [
        "# Interupting long-running executions\n",
        "\n",
        "The following code cell simulates a long-running process. Such processes can get interrupted by either clicking on the `■` icon in the left gutter of the cell or by typing `⌘ Cmd`+`M` `I` / `Ctrl`+`M` `I`. As long as a process is running, a spinning indicator gets displayed, shown around the icon in the left gutter of that cell that currently gets executed, as well as a three-dot indicator in the top toolbar, shown left to the utilization widget.\n",
        "\n",
        "<br/>\n",
        "\n",
        "**Exercise 8:** Run the cell below and try to interrupt its execution. "
      ]
    },
    {
      "cell_type": "code",
      "metadata": {
        "colab_type": "code",
        "id": "PUyCHZrQnBPG",
        "colab": {}
      },
      "source": [
        "import time\n",
        "\n",
        "print(\"Sleeping for thirty seconds ...\")\n",
        "time.sleep(30)\n",
        "print(\"Done sleeping!\")"
      ],
      "execution_count": 0,
      "outputs": []
    },
    {
      "cell_type": "markdown",
      "metadata": {
        "id": "c34k2LjTFzgs",
        "colab_type": "text"
      },
      "source": [
        "# Shell and magic commands"
      ]
    },
    {
      "cell_type": "markdown",
      "metadata": {
        "id": "qB5eYxwqTOZR",
        "colab_type": "text"
      },
      "source": [
        "## Shell commands\n",
        "\n",
        "Unix-like system, such as Linux or macOS, enable the access to system command-line tools and the execution of shell commands directly from within a code cell. And because Google Colab has a Linux backend, it is possible, for example, to install additional software, such as a LaTeX distribution or a Python packages, without having actual access to the server console. \n",
        "\n",
        "A full introduction in using the command-line is well beyond the scope of this preparation course, but [here](https://swcarpentry.github.io/shell-novice/reference/) is a good summary for novices. Any command that works at the command-line can be used by prefixing it with the `!` character. \n",
        "\n",
        "<br/>\n",
        "\n",
        "**Exercise 9:** First, run the first cell below to verify that the `libarchive` package is not installed at the moment. Then, run the second code cell in order to install a system dependency with the `apt-get` command that is required for installing the `libarchive` package with `pip`. Finally, run the first code cell again to verify that the installation of both system dependency and Python has been successful. If you want, you can run the third code cell to remove everything (this package is actually not required for data science purposes), but beware that when you uninstall a package it is still possible to import it, because it is still in the working memory of the runtime. We will later address how to restart and reset it."
      ]
    },
    {
      "cell_type": "code",
      "metadata": {
        "id": "mnQWVIhjMEy8",
        "colab_type": "code",
        "colab": {}
      },
      "source": [
        "import libarchive"
      ],
      "execution_count": 0,
      "outputs": []
    },
    {
      "cell_type": "code",
      "metadata": {
        "id": "QDR8NC28Loab",
        "colab_type": "code",
        "colab": {}
      },
      "source": [
        "!apt-get -qq install -y libarchive-dev\n",
        "!pip install -Uq libarchive"
      ],
      "execution_count": 0,
      "outputs": []
    },
    {
      "cell_type": "code",
      "metadata": {
        "id": "KuhpPVORMvrc",
        "colab_type": "code",
        "colab": {}
      },
      "source": [
        "!apt-get -qq remove -y libarchive-dev\n",
        "!pip uninstall -yq libarchive"
      ],
      "execution_count": 0,
      "outputs": []
    },
    {
      "cell_type": "markdown",
      "metadata": {
        "id": "uQQ-77ulNWSD",
        "colab_type": "text"
      },
      "source": [
        "Shell commands can not only get called from a code cell but also be made to interact with Python. The output of any shell command, for example, can get saved to a variable, using the assignment operator. The first statement in the cell below uses the `grep` command along with [regular expressions](https://blog.usejournal.com/regular-expressions-a-complete-beginners-tutorial-c7327b9fd8eb) in order to retrieve the name of the operating system, the runtime of this notebook is currently running on, from a file stored on the system and assigns the return value to a variable. The last statement just outputs the contents of this variable, and because it is a list of values, only the first item of it is selected which translates to the zeroth element of the list.\n",
        "\n",
        "<br/>\n",
        "\n",
        "**Exercise 10:** First, execute the cell below to see on what operating system this runtime is currently running on. Then, assign `!grep -oP '^VERSION=\"\\K[^\"]+' /etc/os-release` to a new variable named `os_version` and modify the `print` statement so it outputs both the name of the operating system as well as its version right next to each other."
      ]
    },
    {
      "cell_type": "code",
      "metadata": {
        "id": "sGeDZiKvFzt2",
        "colab_type": "code",
        "colab": {}
      },
      "source": [
        "os_name = !grep -oP '^NAME=\"\\K[^\"]+' /etc/os-release\n",
        "print(os_name[0])"
      ],
      "execution_count": 0,
      "outputs": []
    },
    {
      "cell_type": "markdown",
      "metadata": {
        "id": "1upoH-mjP_CZ",
        "colab_type": "text"
      },
      "source": [
        "## Magic commands\n",
        "\n",
        "Jupyter Notebooks further add some enhancements on top of the normal Python syntax that are known as magic commands and that are prefixed by the `%` character. These magic commands are designed to succinctly solve various common problems in standard data analysis and come in two flavors: line magics, which are denoted by a single `%` prefix and operate on a single line of input, and cell magics, which are denoted by a double `%%` prefix and operate on multiple lines of input. \n",
        "\n",
        "A useful magic command from the default [built-ins](https://ipython.readthedocs.io/en/stable/interactive/magics.html) is, for example, `%timeit`, which will automatically determine the execution time of the single-line statement that follows it. The benefit of `%timeit` is that, for short commands, it will automatically perform multiple runs in order to attain more robust results.\n",
        "\n",
        "<br/>\n",
        "\n",
        "**Exercise 11:** Run the code cell below but first, modify the statement so that you are able to check the performance of a list comprehension, which is basically a concise way to create lists."
      ]
    },
    {
      "cell_type": "code",
      "metadata": {
        "id": "aILwJG-YK1Yl",
        "colab_type": "code",
        "colab": {}
      },
      "source": [
        "mylist = [n ** 2 for n in range(1000)]"
      ],
      "execution_count": 0,
      "outputs": []
    },
    {
      "cell_type": "markdown",
      "metadata": {
        "id": "4VWRqNDfK1gJ",
        "colab_type": "text"
      },
      "source": [
        "**Exercise 12:** Run the code cell below but first, modify the statement so that you are able to compare the performance from the previous list comprehension with the performance of the equivalent for-loop construction that is written down below."
      ]
    },
    {
      "cell_type": "code",
      "metadata": {
        "id": "uyuK6Fo5K1mn",
        "colab_type": "code",
        "colab": {}
      },
      "source": [
        "mylist = []\n",
        "for n in range(1000):\n",
        "    mylist.append(n ** 2)"
      ],
      "execution_count": 0,
      "outputs": []
    },
    {
      "cell_type": "markdown",
      "metadata": {
        "id": "LMERH_jqRMco",
        "colab_type": "text"
      },
      "source": [
        "# Clearing cell outputs\n",
        "\n",
        "Sometimes there is a need for tidying up a little bit and clearing the output of some of the code cells. The output of an individual cell can get cleared by either clicking on the `✕` icon, which appears when hovering the left gutter of the code cell output frame (not the left gutter of the code cell itself) with the cursor, or by right-clicking a code cell and selecting `Clear output`. \n",
        "\n",
        "Of course it also possible to apply the principles of selecting adjacent and non-adjacent cells in order to clear the output of multiple code cells at once. After a selection is made, right-clicking one of the selected code cells and choosing `Clear selected outputs` clear their outputs. The output of each and every code cell inside a notebook can get cleared by clicking on `Edit → Clear all outputs` in the menu bar.\n",
        "\n",
        "<br/>\n",
        "\n",
        "**Exercise 13:** First, clear the output of the first code cell individually. Then, select the third and fourth code cell, using lasso selection, and clear their outputs as well. Finally, select the second and the fifth code cell and clear their outputs, while preserving your selection."
      ]
    },
    {
      "cell_type": "code",
      "metadata": {
        "id": "dCVTvJYWP5g6",
        "colab_type": "code",
        "colab": {
          "base_uri": "https://localhost:8080/",
          "height": 34
        },
        "outputId": "3b7d4953-ae1b-4e7a-ff7a-02c556db1afd"
      },
      "source": [
        "\"CLEAR MY OUTPUT\""
      ],
      "execution_count": 5,
      "outputs": [
        {
          "output_type": "execute_result",
          "data": {
            "text/plain": [
              "'CLEAR MY OUTPUT'"
            ]
          },
          "metadata": {
            "tags": []
          },
          "execution_count": 5
        }
      ]
    },
    {
      "cell_type": "code",
      "metadata": {
        "id": "4qEVAmf8S3H9",
        "colab_type": "code",
        "colab": {
          "base_uri": "https://localhost:8080/",
          "height": 34
        },
        "outputId": "9a4d044c-3137-4086-98c3-81a82c3e5614"
      },
      "source": [
        "\"CLEAR MY OUTPUT\""
      ],
      "execution_count": 6,
      "outputs": [
        {
          "output_type": "execute_result",
          "data": {
            "text/plain": [
              "'CLEAR MY OUTPUT'"
            ]
          },
          "metadata": {
            "tags": []
          },
          "execution_count": 6
        }
      ]
    },
    {
      "cell_type": "code",
      "metadata": {
        "id": "7AOzP6lbS3Kz",
        "colab_type": "code",
        "colab": {
          "base_uri": "https://localhost:8080/",
          "height": 34
        },
        "outputId": "700b5c48-1fd6-4f8c-95d1-38c8351a62f7"
      },
      "source": [
        "\"CLEAR MY OUTPUT\""
      ],
      "execution_count": 7,
      "outputs": [
        {
          "output_type": "execute_result",
          "data": {
            "text/plain": [
              "'CLEAR MY OUTPUT'"
            ]
          },
          "metadata": {
            "tags": []
          },
          "execution_count": 7
        }
      ]
    },
    {
      "cell_type": "code",
      "metadata": {
        "id": "Q2XuAjxyQGdj",
        "colab_type": "code",
        "colab": {
          "base_uri": "https://localhost:8080/",
          "height": 34
        },
        "outputId": "5d847d6a-ab9a-4788-e608-db747b513906"
      },
      "source": [
        "\"CLEAR MY OUTPUT\""
      ],
      "execution_count": 8,
      "outputs": [
        {
          "output_type": "execute_result",
          "data": {
            "text/plain": [
              "'CLEAR MY OUTPUT'"
            ]
          },
          "metadata": {
            "tags": []
          },
          "execution_count": 8
        }
      ]
    },
    {
      "cell_type": "code",
      "metadata": {
        "id": "avp8i4m3QGgg",
        "colab_type": "code",
        "colab": {
          "base_uri": "https://localhost:8080/",
          "height": 34
        },
        "outputId": "344da227-b9ea-41f2-c068-0bcba2984f7b"
      },
      "source": [
        "\"CLEAR MY OUTPUT\""
      ],
      "execution_count": 9,
      "outputs": [
        {
          "output_type": "execute_result",
          "data": {
            "text/plain": [
              "'CLEAR MY OUTPUT'"
            ]
          },
          "metadata": {
            "tags": []
          },
          "execution_count": 9
        }
      ]
    },
    {
      "cell_type": "markdown",
      "metadata": {
        "id": "nTnuRaguNtkR",
        "colab_type": "text"
      },
      "source": [
        "# Runtime management\n",
        "\n",
        "As the runtime maintains the state of a notebooks computations, it must be ensured that every assignment and function call is in the right order. Therefore, it is recommended to occasionally restart the runtime and check that everything is working, and an absolute must before submitting or sharing the notebook file with someone else, or before pushing it to a version control systems, e.g., GitHub. In this last case, it is especially recommended to only push an unrun, cleared notebook file."
      ]
    },
    {
      "cell_type": "markdown",
      "metadata": {
        "id": "c_4oZJcsRSNl",
        "colab_type": "text"
      },
      "source": [
        "## Restarting the Runtime\n",
        "\n",
        "The runtime can get restarted by typing `⌘ Cmd`+`M` `.` / `Ctrl`+`M` `.`. Everything kept in the working memory, e.g., variable assignments or imports, is then delete and therefore allows to start over the computations from scratch. To find mistakes, it is helpful to type `⌘ Cmd`+`F9` / `Ctrl`+`F9` afterwards in order to run all cells in a consecutive order. It also possible to only run a selection of cells by typing `⌘ Cmd`+`⇧ Shift`+`↵ Enter`  / `Ctrl`+`⇧ Shift`+`↵ Enter`, or to run only those cells that are prior to or after a focused cell by typing `⌘ Cmd`+`F8`+  / `Ctrl`+`F8` and `⌘ Cmd`+`F10`  / `Ctrl`+`F10` respectively."
      ]
    },
    {
      "cell_type": "markdown",
      "metadata": {
        "id": "V2wisXaERWKN",
        "colab_type": "text"
      },
      "source": [
        "## Resetting the Runtime\n",
        "\n",
        "In cases where the virtual machine, which is hosting the runtime, has become unhealthy, e.g., due to accidental overwrite of system files, or installation of incompatible software, factory resetting the runtime by clicking `Runtime → Factory reset runtime` is often the only way out as it will return all assigned managed virtual machines to their original state, deleting every file that has been uploaded and every package or software that has been installed. The notebooks, however, will not get deleted during this process. Colab limits how often this can be done to prevent undue resource consumption. \n",
        "\n",
        "<br/>\n",
        "\n",
        "**Exercise 14:** Restart the runtime and try to output the contents of the variable `a`, which has been initalized earlier, in a new code cell below. If you have not installed the `libarchive` package, factory reset the runtime and try to import the package again in a new code cell below. You can also try out running again some or all of your code cells at once by using the keyboard shortcuts from above."
      ]
    },
    {
      "cell_type": "markdown",
      "metadata": {
        "id": "ak7Z5bgR5Cus",
        "colab_type": "text"
      },
      "source": [
        "# Accelerating computations using the GPU\n",
        "\n",
        "The default runtime configuration so far conducts computations on the CPU only but as data gets larger, algorithms running on a CPU become slow and cumbersome. The mathematics used by those algorithms and generally in data science today mostly involve matrix and vector operations which run much more efficiently on GPU rather on CPU. However, to get the most out of Google Colab, one should avoid using a GPU unless it is really needed. In the following, there is an experiment to compare the efficiency of GPU-accelerated and CPU-only computations. \n",
        "\n",
        "<br/>\n",
        "\n",
        "**Exercise 15:** First, run the first code cell below in order to create a 3-dimensional tensor containing one billion ones and time the execution. After that, run the second code cell below in order to create a dataset with 10 million rows, using the [*Pandas*](https://pandas.pydata.org) package, merge the dataset on itself on the datasets `TWO` column and time the execution."
      ]
    },
    {
      "cell_type": "code",
      "metadata": {
        "id": "SA6rm8-fIj-q",
        "colab_type": "code",
        "colab": {}
      },
      "source": [
        "import numpy as np\n",
        "\n",
        "%timeit np.ones((1000,1000,1000))"
      ],
      "execution_count": 0,
      "outputs": []
    },
    {
      "cell_type": "code",
      "metadata": {
        "id": "zuG6-oFTLWXu",
        "colab_type": "code",
        "colab": {}
      },
      "source": [
        "import pandas as pd\n",
        "\n",
        "numbers = np.random.randint(0, 10000000, 10000000)\n",
        "data = pd.DataFrame({'ONE': numbers, 'TWO': numbers})\n",
        "%timeit data.merge(data, on='TWO')"
      ],
      "execution_count": 0,
      "outputs": []
    },
    {
      "cell_type": "markdown",
      "metadata": {
        "id": "7L50JnlDKSPR",
        "colab_type": "text"
      },
      "source": [
        "Merging here is a very large operation since it has to look for and match the common values, which is a time-consuming operation especially when data gets large. In the following, the same statements get executed again but now with GPU enabled. In order to connect the runtime to the graphics card and utilize its GPU for computations, the notebook settings must get reconfigured.\n",
        "\n",
        "<br/>\n",
        "\n",
        "**Exercise 16:** First, click `Edit → Notebook settings` in the menu bar and select `GPU` in the `Hardware accelerator` dropdown. Beware, that when you make changes to the notebook settings, the runtime restarts and all local variables will be lost and you must re-run all cells that are required for your analysis. This is the reason why in the following you must re-import *NumPy* and *Pandas* again. Now, run the following two code cells to check whether or not the enabled GPU acceleration improves the execution time. \n"
      ]
    },
    {
      "cell_type": "code",
      "metadata": {
        "id": "8_8bIpW1IkBl",
        "colab_type": "code",
        "colab": {}
      },
      "source": [
        "import numpy as np\n",
        "\n",
        "%timeit np.ones((1000,1000,1000))"
      ],
      "execution_count": 0,
      "outputs": []
    },
    {
      "cell_type": "code",
      "metadata": {
        "id": "qvAslK0cECA8",
        "colab_type": "code",
        "colab": {}
      },
      "source": [
        "import pandas as pd\n",
        "\n",
        "numbers = np.random.randint(0, 10000000, 10000000)\n",
        "data = pd.DataFrame({'ONE': numbers, 'TWO': numbers})\n",
        "%timeit data.merge(data, on='TWO')"
      ],
      "execution_count": 0,
      "outputs": []
    },
    {
      "cell_type": "markdown",
      "metadata": {
        "id": "DzW8v3e5PQHJ",
        "colab_type": "text"
      },
      "source": [
        "The performance has not really improved even though the GPU has been enabled. The reason here is that, except for some packages like [*PyTorch*](https://pytorch.org), [*TensorFlow*](https://www.tensorflow.org) or [*CatBoost*](https://catboost.ai), most packages do not natively support and utilize the GPU by default. Fortunately, there are GPU-accelerated variants of Python packages that are especially popular in data science, e.g., *NumPy* ([*CuPy*](https://cupy.chainer.org)), *Pandas* ([*cuDF*](https://github.com/rapidsai/cudf)) and *Scikit-Learn* ([*cuML*](https://github.com/rapidsai/cuml)). These GPU-accelerated variants tend to copy and mirror the functionality of their originators and in most cases can be used as a direct replacement. \n",
        "\n",
        "<br/>\n",
        "\n",
        "**Exercise 17:** Run the cell below to install the required Python packages and then restart the runtime."
      ]
    },
    {
      "cell_type": "code",
      "metadata": {
        "id": "TdhSFZqvXO4W",
        "colab_type": "code",
        "colab": {}
      },
      "source": [
        "!pip install -Uq cudf-cuda100 cuml-cuda100"
      ],
      "execution_count": 0,
      "outputs": []
    },
    {
      "cell_type": "markdown",
      "metadata": {
        "id": "N0jrpkJ6XPB-",
        "colab_type": "text"
      },
      "source": [
        "Instead of using *NumPy* and *Pandas*, their GPU-accelerated variants *CuPy*, for creating a 3-dimensional tensor containing one billion ones, and *cuDF*, for merging the dataset on itself on the datasets `TWO` column, will be used. As both variants mirror the programming interface of their originators, the syntax is pretty much the same as before. *cuDF* also provides methods for [converting existing *Pandas* data frames](https://rapidsai.github.io/projects/cudf/en/0.12.0/api.html#cudf.core.dataframe.DataFrame.from_pandas) or [loading a comma-seperated-values (CSV) dataset into a data frame](https://rapidsai.github.io/projects/cudf/en/0.12.0/api.html#cudf.io.csv.read_csv).\n",
        "\n",
        "<br/>\n",
        "\n",
        "**Exercise 18:** Run the two cells below and compare their execution times with the non-GPU execution times."
      ]
    },
    {
      "cell_type": "code",
      "metadata": {
        "id": "4KR0ZBqePOvS",
        "colab_type": "code",
        "colab": {}
      },
      "source": [
        "import cupy as cp\n",
        "\n",
        "%timeit cp.ones((1000,1000,1000))"
      ],
      "execution_count": 0,
      "outputs": []
    },
    {
      "cell_type": "code",
      "metadata": {
        "id": "QLTPXhcp605q",
        "colab_type": "code",
        "colab": {}
      },
      "source": [
        "import cudf\n",
        "import numpy as np\n",
        "\n",
        "numbers = np.random.randint(0, 10000000, 10000000)\n",
        "data = cudf.DataFrame({'ONE': numbers, 'TWO': numbers})\n",
        "%timeit data.merge(data, on='TWO')"
      ],
      "execution_count": 0,
      "outputs": []
    },
    {
      "cell_type": "markdown",
      "metadata": {
        "id": "T1VSpQkRrXmA",
        "colab_type": "text"
      },
      "source": [
        "# Integration with Google Drive and GitHub"
      ]
    },
    {
      "cell_type": "markdown",
      "metadata": {
        "id": "Kqe-0tTzFXT0",
        "colab_type": "text"
      },
      "source": [
        "## Sharing Notebooks\n",
        "\n",
        "Clicking the `SHARE` button in the top-right of the toolbar opens a window that can be used for inviting or expelling individual collaborators and for generating and deleting a shareable link to the notebook. For both cases, the permissions, in terms of whether someone can edit, comment or just view the notebook, can get configured there as well."
      ]
    },
    {
      "cell_type": "markdown",
      "metadata": {
        "id": "F37SuMMkFZ2B",
        "colab_type": "text"
      },
      "source": [
        "## Commenting Notebooks\n",
        "\n",
        "Collaborators with the appropriate permissions can comment individual cells by clicking on the balloon icon in the toolbar right next to cell. Each comment is threaded, which means it possible to reply to comments. Notebook owners also can create comments and reply to them, but also tey can delete and edit comments by clicking on the three-dotted icon and select the appropriate action. Furthermore, they can mark a comment as resolved by clicking on the `RESOLVE` button in the top-right corner of thread. Resolved comments disappear from the comments sidebar but are still available in the comments history that can get displayed when clicking on the `COMMENT` button in the top-right of the toolbar. The comments history lists all comments made in notebook in one place and futher allows to re-open resolved comments by clicking on the `REOPEN` button next to each thread."
      ]
    },
    {
      "cell_type": "markdown",
      "metadata": {
        "id": "yw6h-6xoFapI",
        "colab_type": "text"
      },
      "source": [
        "## Saving, Opening and Uploading Notebooks\n",
        "\n",
        "Saving an opened notebook to Google Drive gets accomplished by typing either `⌘ Cmd`+`S` / `Ctrl`+`S` or `⌘ Cmd`+`M` `S` / `Ctrl`+`M` `S`. The latter pins the version of the notebook so it does not get deleted from the revision history that tracks the progress of development and gets shown when clicking `File -> Revision history` in the menu bar.\n",
        "\n",
        "Notebooks can get opened by typing `⌘ Cmd`+`O` / `Ctrl`+`O`. The windows that appears has several tabs that allow to open notebooks from different sources. All recently opened notebooks are listed in the `RECENT` tab, which get cleared by clicking on the trash bin icon in the header of the last table column. The `EXAMPLES` tab lists some notebooks made by Google, which further help to get started with Google Colab and Jupyter Notebooks. All notebooks in possession or with access permission that are saved to Google Drive are shown in `GOOGLE DRIVE` tab. Notebooks saved on the local filesystem can get uploaded to Google Drive via drag and drop in the `UPLOAD` tab."
      ]
    },
    {
      "cell_type": "markdown",
      "metadata": {
        "id": "xB-5YiM2KwGt",
        "colab_type": "text"
      },
      "source": [
        "## Pulling and Pushing Notebooks\n",
        "\n",
        "With Google Colab it is possible to list and open notebooks available in public or private [GitHub](https://github.com) repositories, which offer [distributed version control](https://en.wikipedia.org/wiki/Distributed_version_control) and source code management using [Git](https://git-scm.com), via the `GITHUB` tab in the file open window by typing either the corresponding GitHub URL or the name of the user/organization. Private repositories only can get accessed if Google Colab has been registered to the own GitHub account and the required access permissions have been granted. Notebooks opened via GitHub can get saved as a copy to Google Drive by clicking `File -> Save a copy in Drive...` in the menu bar.\n",
        "\n",
        "It also possible with Google Colab to commit and push notebooks, which are saved on Google Drive, directly to a public or private GitHub repository, if Google Colab has been registered to the own GitHub account and the required permissions have been granted, by clicking `File -> Save a copy in GitHub...` in the menu bar. The window, which then opens, allows to choose the repository, branch, filename and commit message.\n",
        "\n",
        "<br/>\n",
        "\n",
        "**Exercise 19:** Try to open any of the notebooks from the public GitHub repository available at https://github.com/saschaschworm/big-data-and-data-science and save a local copy to your Google Drive."
      ]
    }
  ]
}